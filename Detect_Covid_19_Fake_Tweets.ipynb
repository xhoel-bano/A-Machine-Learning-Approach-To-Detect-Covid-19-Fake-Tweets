{
  "nbformat": 4,
  "nbformat_minor": 0,
  "metadata": {
    "colab": {
      "name": "Detect Covid-19 Fake Tweets.ipynb",
      "provenance": [],
      "collapsed_sections": []
    },
    "kernelspec": {
      "name": "python3",
      "display_name": "Python 3"
    },
    "language_info": {
      "name": "python"
    }
  },
  "cells": [
    {
      "cell_type": "markdown",
      "source": [
        "# **A Machine Learning Approach  To Detect Covid-19 Fake Tweets**\n"
      ],
      "metadata": {
        "id": "WQkXEs36vjDb"
      }
    },
    {
      "cell_type": "markdown",
      "source": [
        "## 1. Dataset Loading and visualisation\n"
      ],
      "metadata": {
        "id": "Oh3ganf3v5vR"
      }
    },
    {
      "cell_type": "markdown",
      "source": [
        "### Required imports"
      ],
      "metadata": {
        "id": "cAh25DM_v-Hj"
      }
    },
    {
      "cell_type": "code",
      "execution_count": 1,
      "metadata": {
        "id": "fztXOJw9RoKu"
      },
      "outputs": [],
      "source": [
        "# Used for dataset loading and visualisation\n",
        "import pandas as pd\n",
        "import seaborn as seaborn\n",
        "import matplotlib.pyplot as plt"
      ]
    },
    {
      "cell_type": "markdown",
      "source": [
        "### Dataset Loading"
      ],
      "metadata": {
        "id": "5zcDqMKDwAv3"
      }
    },
    {
      "cell_type": "code",
      "source": [
        "# Load training dataset into a pandas dataframe\n",
        "df_train = pd.read_csv('datasets/TrainData.csv' )\n",
        "\n",
        "# Load validation dataset into a pandas dataframe\n",
        "df_val = pd.read_csv('datasets/ValData.csv')\n",
        "\n",
        "# Load testing dataset into a pandas dataframe\n",
        "df_test = pd.read_csv('datasets/TestData.csv')"
      ],
      "metadata": {
        "id": "FnBLY03hwEde"
      },
      "execution_count": 2,
      "outputs": []
    },
    {
      "cell_type": "code",
      "source": [
        "# 7 sample rows from the training dataset\n",
        "df_train.sample(7)"
      ],
      "metadata": {
        "colab": {
          "base_uri": "https://localhost:8080/",
          "height": 269
        },
        "id": "rFw-YyKMwH4m",
        "outputId": "ad32d8b7-cf39-4a4f-d972-4c40a2d2383c"
      },
      "execution_count": 3,
      "outputs": [
        {
          "output_type": "execute_result",
          "data": {
            "text/plain": [
              "          id                                              tweet label\n",
              "3891    3892  A video has been viewed hundreds of thousands ...  fake\n",
              "3428    3429  ???CDC announces that students may be kept fro...  fake\n",
              "6471    6472    PARTS PRICE ONLY   During the COVID 19 Lockd...  real\n",
              "14741  14742  Area food pantries facing new challenges as sp...  real\n",
              "1288    1289  The Bombay High Court in Mumbai City has exten...  fake\n",
              "16844  16845  Consumer group attack on financial planners is...  fake\n",
              "5431    5432  â€œ60 days into the coronavirus crisis, the Wh...  fake"
            ],
            "text/html": [
              "\n",
              "  <div id=\"df-33361f74-6038-4a38-ab20-847b77265270\">\n",
              "    <div class=\"colab-df-container\">\n",
              "      <div>\n",
              "<style scoped>\n",
              "    .dataframe tbody tr th:only-of-type {\n",
              "        vertical-align: middle;\n",
              "    }\n",
              "\n",
              "    .dataframe tbody tr th {\n",
              "        vertical-align: top;\n",
              "    }\n",
              "\n",
              "    .dataframe thead th {\n",
              "        text-align: right;\n",
              "    }\n",
              "</style>\n",
              "<table border=\"1\" class=\"dataframe\">\n",
              "  <thead>\n",
              "    <tr style=\"text-align: right;\">\n",
              "      <th></th>\n",
              "      <th>id</th>\n",
              "      <th>tweet</th>\n",
              "      <th>label</th>\n",
              "    </tr>\n",
              "  </thead>\n",
              "  <tbody>\n",
              "    <tr>\n",
              "      <th>3891</th>\n",
              "      <td>3892</td>\n",
              "      <td>A video has been viewed hundreds of thousands ...</td>\n",
              "      <td>fake</td>\n",
              "    </tr>\n",
              "    <tr>\n",
              "      <th>3428</th>\n",
              "      <td>3429</td>\n",
              "      <td>???CDC announces that students may be kept fro...</td>\n",
              "      <td>fake</td>\n",
              "    </tr>\n",
              "    <tr>\n",
              "      <th>6471</th>\n",
              "      <td>6472</td>\n",
              "      <td>PARTS PRICE ONLY   During the COVID 19 Lockd...</td>\n",
              "      <td>real</td>\n",
              "    </tr>\n",
              "    <tr>\n",
              "      <th>14741</th>\n",
              "      <td>14742</td>\n",
              "      <td>Area food pantries facing new challenges as sp...</td>\n",
              "      <td>real</td>\n",
              "    </tr>\n",
              "    <tr>\n",
              "      <th>1288</th>\n",
              "      <td>1289</td>\n",
              "      <td>The Bombay High Court in Mumbai City has exten...</td>\n",
              "      <td>fake</td>\n",
              "    </tr>\n",
              "    <tr>\n",
              "      <th>16844</th>\n",
              "      <td>16845</td>\n",
              "      <td>Consumer group attack on financial planners is...</td>\n",
              "      <td>fake</td>\n",
              "    </tr>\n",
              "    <tr>\n",
              "      <th>5431</th>\n",
              "      <td>5432</td>\n",
              "      <td>â€œ60 days into the coronavirus crisis, the Wh...</td>\n",
              "      <td>fake</td>\n",
              "    </tr>\n",
              "  </tbody>\n",
              "</table>\n",
              "</div>\n",
              "      <button class=\"colab-df-convert\" onclick=\"convertToInteractive('df-33361f74-6038-4a38-ab20-847b77265270')\"\n",
              "              title=\"Convert this dataframe to an interactive table.\"\n",
              "              style=\"display:none;\">\n",
              "        \n",
              "  <svg xmlns=\"http://www.w3.org/2000/svg\" height=\"24px\"viewBox=\"0 0 24 24\"\n",
              "       width=\"24px\">\n",
              "    <path d=\"M0 0h24v24H0V0z\" fill=\"none\"/>\n",
              "    <path d=\"M18.56 5.44l.94 2.06.94-2.06 2.06-.94-2.06-.94-.94-2.06-.94 2.06-2.06.94zm-11 1L8.5 8.5l.94-2.06 2.06-.94-2.06-.94L8.5 2.5l-.94 2.06-2.06.94zm10 10l.94 2.06.94-2.06 2.06-.94-2.06-.94-.94-2.06-.94 2.06-2.06.94z\"/><path d=\"M17.41 7.96l-1.37-1.37c-.4-.4-.92-.59-1.43-.59-.52 0-1.04.2-1.43.59L10.3 9.45l-7.72 7.72c-.78.78-.78 2.05 0 2.83L4 21.41c.39.39.9.59 1.41.59.51 0 1.02-.2 1.41-.59l7.78-7.78 2.81-2.81c.8-.78.8-2.07 0-2.86zM5.41 20L4 18.59l7.72-7.72 1.47 1.35L5.41 20z\"/>\n",
              "  </svg>\n",
              "      </button>\n",
              "      \n",
              "  <style>\n",
              "    .colab-df-container {\n",
              "      display:flex;\n",
              "      flex-wrap:wrap;\n",
              "      gap: 12px;\n",
              "    }\n",
              "\n",
              "    .colab-df-convert {\n",
              "      background-color: #E8F0FE;\n",
              "      border: none;\n",
              "      border-radius: 50%;\n",
              "      cursor: pointer;\n",
              "      display: none;\n",
              "      fill: #1967D2;\n",
              "      height: 32px;\n",
              "      padding: 0 0 0 0;\n",
              "      width: 32px;\n",
              "    }\n",
              "\n",
              "    .colab-df-convert:hover {\n",
              "      background-color: #E2EBFA;\n",
              "      box-shadow: 0px 1px 2px rgba(60, 64, 67, 0.3), 0px 1px 3px 1px rgba(60, 64, 67, 0.15);\n",
              "      fill: #174EA6;\n",
              "    }\n",
              "\n",
              "    [theme=dark] .colab-df-convert {\n",
              "      background-color: #3B4455;\n",
              "      fill: #D2E3FC;\n",
              "    }\n",
              "\n",
              "    [theme=dark] .colab-df-convert:hover {\n",
              "      background-color: #434B5C;\n",
              "      box-shadow: 0px 1px 3px 1px rgba(0, 0, 0, 0.15);\n",
              "      filter: drop-shadow(0px 1px 2px rgba(0, 0, 0, 0.3));\n",
              "      fill: #FFFFFF;\n",
              "    }\n",
              "  </style>\n",
              "\n",
              "      <script>\n",
              "        const buttonEl =\n",
              "          document.querySelector('#df-33361f74-6038-4a38-ab20-847b77265270 button.colab-df-convert');\n",
              "        buttonEl.style.display =\n",
              "          google.colab.kernel.accessAllowed ? 'block' : 'none';\n",
              "\n",
              "        async function convertToInteractive(key) {\n",
              "          const element = document.querySelector('#df-33361f74-6038-4a38-ab20-847b77265270');\n",
              "          const dataTable =\n",
              "            await google.colab.kernel.invokeFunction('convertToInteractive',\n",
              "                                                     [key], {});\n",
              "          if (!dataTable) return;\n",
              "\n",
              "          const docLinkHtml = 'Like what you see? Visit the ' +\n",
              "            '<a target=\"_blank\" href=https://colab.research.google.com/notebooks/data_table.ipynb>data table notebook</a>'\n",
              "            + ' to learn more about interactive tables.';\n",
              "          element.innerHTML = '';\n",
              "          dataTable['output_type'] = 'display_data';\n",
              "          await google.colab.output.renderOutput(dataTable, element);\n",
              "          const docLink = document.createElement('div');\n",
              "          docLink.innerHTML = docLinkHtml;\n",
              "          element.appendChild(docLink);\n",
              "        }\n",
              "      </script>\n",
              "    </div>\n",
              "  </div>\n",
              "  "
            ]
          },
          "metadata": {},
          "execution_count": 3
        }
      ]
    },
    {
      "cell_type": "code",
      "source": [
        "# 7 first rows from the validation dataset\n",
        "df_val.head(7)"
      ],
      "metadata": {
        "colab": {
          "base_uri": "https://localhost:8080/",
          "height": 269
        },
        "id": "-6nSB80swLuI",
        "outputId": "e0b4854e-45aa-454e-b1bf-146c18a1950e"
      },
      "execution_count": 4,
      "outputs": [
        {
          "output_type": "execute_result",
          "data": {
            "text/plain": [
              "   id                                              tweet label\n",
              "0   1  Chinese converting to Islam after realising th...  fake\n",
              "1   2  11 out of 13 people (from the Diamond Princess...  fake\n",
              "2   3  COVID-19 Is Caused By A Bacterium, Not Virus A...  fake\n",
              "3   4  Mike Pence in RNC speech praises Donald Trump’...  fake\n",
              "4   5  6/10 Sky's @EdConwaySky explains the latest #C...  real\n",
              "5   6  No one can leave managed isolation for any rea...  real\n",
              "6   7  #IndiaFightsCorona India has one of the lowest...  real"
            ],
            "text/html": [
              "\n",
              "  <div id=\"df-911768da-6ee8-4c98-b4f8-d3932a4a901e\">\n",
              "    <div class=\"colab-df-container\">\n",
              "      <div>\n",
              "<style scoped>\n",
              "    .dataframe tbody tr th:only-of-type {\n",
              "        vertical-align: middle;\n",
              "    }\n",
              "\n",
              "    .dataframe tbody tr th {\n",
              "        vertical-align: top;\n",
              "    }\n",
              "\n",
              "    .dataframe thead th {\n",
              "        text-align: right;\n",
              "    }\n",
              "</style>\n",
              "<table border=\"1\" class=\"dataframe\">\n",
              "  <thead>\n",
              "    <tr style=\"text-align: right;\">\n",
              "      <th></th>\n",
              "      <th>id</th>\n",
              "      <th>tweet</th>\n",
              "      <th>label</th>\n",
              "    </tr>\n",
              "  </thead>\n",
              "  <tbody>\n",
              "    <tr>\n",
              "      <th>0</th>\n",
              "      <td>1</td>\n",
              "      <td>Chinese converting to Islam after realising th...</td>\n",
              "      <td>fake</td>\n",
              "    </tr>\n",
              "    <tr>\n",
              "      <th>1</th>\n",
              "      <td>2</td>\n",
              "      <td>11 out of 13 people (from the Diamond Princess...</td>\n",
              "      <td>fake</td>\n",
              "    </tr>\n",
              "    <tr>\n",
              "      <th>2</th>\n",
              "      <td>3</td>\n",
              "      <td>COVID-19 Is Caused By A Bacterium, Not Virus A...</td>\n",
              "      <td>fake</td>\n",
              "    </tr>\n",
              "    <tr>\n",
              "      <th>3</th>\n",
              "      <td>4</td>\n",
              "      <td>Mike Pence in RNC speech praises Donald Trump’...</td>\n",
              "      <td>fake</td>\n",
              "    </tr>\n",
              "    <tr>\n",
              "      <th>4</th>\n",
              "      <td>5</td>\n",
              "      <td>6/10 Sky's @EdConwaySky explains the latest #C...</td>\n",
              "      <td>real</td>\n",
              "    </tr>\n",
              "    <tr>\n",
              "      <th>5</th>\n",
              "      <td>6</td>\n",
              "      <td>No one can leave managed isolation for any rea...</td>\n",
              "      <td>real</td>\n",
              "    </tr>\n",
              "    <tr>\n",
              "      <th>6</th>\n",
              "      <td>7</td>\n",
              "      <td>#IndiaFightsCorona India has one of the lowest...</td>\n",
              "      <td>real</td>\n",
              "    </tr>\n",
              "  </tbody>\n",
              "</table>\n",
              "</div>\n",
              "      <button class=\"colab-df-convert\" onclick=\"convertToInteractive('df-911768da-6ee8-4c98-b4f8-d3932a4a901e')\"\n",
              "              title=\"Convert this dataframe to an interactive table.\"\n",
              "              style=\"display:none;\">\n",
              "        \n",
              "  <svg xmlns=\"http://www.w3.org/2000/svg\" height=\"24px\"viewBox=\"0 0 24 24\"\n",
              "       width=\"24px\">\n",
              "    <path d=\"M0 0h24v24H0V0z\" fill=\"none\"/>\n",
              "    <path d=\"M18.56 5.44l.94 2.06.94-2.06 2.06-.94-2.06-.94-.94-2.06-.94 2.06-2.06.94zm-11 1L8.5 8.5l.94-2.06 2.06-.94-2.06-.94L8.5 2.5l-.94 2.06-2.06.94zm10 10l.94 2.06.94-2.06 2.06-.94-2.06-.94-.94-2.06-.94 2.06-2.06.94z\"/><path d=\"M17.41 7.96l-1.37-1.37c-.4-.4-.92-.59-1.43-.59-.52 0-1.04.2-1.43.59L10.3 9.45l-7.72 7.72c-.78.78-.78 2.05 0 2.83L4 21.41c.39.39.9.59 1.41.59.51 0 1.02-.2 1.41-.59l7.78-7.78 2.81-2.81c.8-.78.8-2.07 0-2.86zM5.41 20L4 18.59l7.72-7.72 1.47 1.35L5.41 20z\"/>\n",
              "  </svg>\n",
              "      </button>\n",
              "      \n",
              "  <style>\n",
              "    .colab-df-container {\n",
              "      display:flex;\n",
              "      flex-wrap:wrap;\n",
              "      gap: 12px;\n",
              "    }\n",
              "\n",
              "    .colab-df-convert {\n",
              "      background-color: #E8F0FE;\n",
              "      border: none;\n",
              "      border-radius: 50%;\n",
              "      cursor: pointer;\n",
              "      display: none;\n",
              "      fill: #1967D2;\n",
              "      height: 32px;\n",
              "      padding: 0 0 0 0;\n",
              "      width: 32px;\n",
              "    }\n",
              "\n",
              "    .colab-df-convert:hover {\n",
              "      background-color: #E2EBFA;\n",
              "      box-shadow: 0px 1px 2px rgba(60, 64, 67, 0.3), 0px 1px 3px 1px rgba(60, 64, 67, 0.15);\n",
              "      fill: #174EA6;\n",
              "    }\n",
              "\n",
              "    [theme=dark] .colab-df-convert {\n",
              "      background-color: #3B4455;\n",
              "      fill: #D2E3FC;\n",
              "    }\n",
              "\n",
              "    [theme=dark] .colab-df-convert:hover {\n",
              "      background-color: #434B5C;\n",
              "      box-shadow: 0px 1px 3px 1px rgba(0, 0, 0, 0.15);\n",
              "      filter: drop-shadow(0px 1px 2px rgba(0, 0, 0, 0.3));\n",
              "      fill: #FFFFFF;\n",
              "    }\n",
              "  </style>\n",
              "\n",
              "      <script>\n",
              "        const buttonEl =\n",
              "          document.querySelector('#df-911768da-6ee8-4c98-b4f8-d3932a4a901e button.colab-df-convert');\n",
              "        buttonEl.style.display =\n",
              "          google.colab.kernel.accessAllowed ? 'block' : 'none';\n",
              "\n",
              "        async function convertToInteractive(key) {\n",
              "          const element = document.querySelector('#df-911768da-6ee8-4c98-b4f8-d3932a4a901e');\n",
              "          const dataTable =\n",
              "            await google.colab.kernel.invokeFunction('convertToInteractive',\n",
              "                                                     [key], {});\n",
              "          if (!dataTable) return;\n",
              "\n",
              "          const docLinkHtml = 'Like what you see? Visit the ' +\n",
              "            '<a target=\"_blank\" href=https://colab.research.google.com/notebooks/data_table.ipynb>data table notebook</a>'\n",
              "            + ' to learn more about interactive tables.';\n",
              "          element.innerHTML = '';\n",
              "          dataTable['output_type'] = 'display_data';\n",
              "          await google.colab.output.renderOutput(dataTable, element);\n",
              "          const docLink = document.createElement('div');\n",
              "          docLink.innerHTML = docLinkHtml;\n",
              "          element.appendChild(docLink);\n",
              "        }\n",
              "      </script>\n",
              "    </div>\n",
              "  </div>\n",
              "  "
            ]
          },
          "metadata": {},
          "execution_count": 4
        }
      ]
    },
    {
      "cell_type": "code",
      "source": [
        "# 7 sample rows from the testing dataset\n",
        "df_test.head(7)"
      ],
      "metadata": {
        "colab": {
          "base_uri": "https://localhost:8080/",
          "height": 269
        },
        "id": "qk_x6VSUwSGq",
        "outputId": "cdfe99c2-1c42-4f59-8e9d-095fdf58e3f8"
      },
      "execution_count": 5,
      "outputs": [
        {
          "output_type": "execute_result",
          "data": {
            "text/plain": [
              "   id                                              tweet label\n",
              "0   1  Our daily update is published. States reported...  real\n",
              "1   2             Alfalfa is the only cure for COVID-19.  fake\n",
              "2   3  President Trump Asked What He Would Do If He W...  fake\n",
              "3   4  States reported 630 deaths. We are still seein...  real\n",
              "4   5  This is the sixth time a global health emergen...  real\n",
              "5   6  Low #vitaminD was an independent predictor of ...  real\n",
              "6   7  A common question: why are the cumulative outc...  real"
            ],
            "text/html": [
              "\n",
              "  <div id=\"df-06a857b1-cc01-4945-aa6b-e7e9e08c2e78\">\n",
              "    <div class=\"colab-df-container\">\n",
              "      <div>\n",
              "<style scoped>\n",
              "    .dataframe tbody tr th:only-of-type {\n",
              "        vertical-align: middle;\n",
              "    }\n",
              "\n",
              "    .dataframe tbody tr th {\n",
              "        vertical-align: top;\n",
              "    }\n",
              "\n",
              "    .dataframe thead th {\n",
              "        text-align: right;\n",
              "    }\n",
              "</style>\n",
              "<table border=\"1\" class=\"dataframe\">\n",
              "  <thead>\n",
              "    <tr style=\"text-align: right;\">\n",
              "      <th></th>\n",
              "      <th>id</th>\n",
              "      <th>tweet</th>\n",
              "      <th>label</th>\n",
              "    </tr>\n",
              "  </thead>\n",
              "  <tbody>\n",
              "    <tr>\n",
              "      <th>0</th>\n",
              "      <td>1</td>\n",
              "      <td>Our daily update is published. States reported...</td>\n",
              "      <td>real</td>\n",
              "    </tr>\n",
              "    <tr>\n",
              "      <th>1</th>\n",
              "      <td>2</td>\n",
              "      <td>Alfalfa is the only cure for COVID-19.</td>\n",
              "      <td>fake</td>\n",
              "    </tr>\n",
              "    <tr>\n",
              "      <th>2</th>\n",
              "      <td>3</td>\n",
              "      <td>President Trump Asked What He Would Do If He W...</td>\n",
              "      <td>fake</td>\n",
              "    </tr>\n",
              "    <tr>\n",
              "      <th>3</th>\n",
              "      <td>4</td>\n",
              "      <td>States reported 630 deaths. We are still seein...</td>\n",
              "      <td>real</td>\n",
              "    </tr>\n",
              "    <tr>\n",
              "      <th>4</th>\n",
              "      <td>5</td>\n",
              "      <td>This is the sixth time a global health emergen...</td>\n",
              "      <td>real</td>\n",
              "    </tr>\n",
              "    <tr>\n",
              "      <th>5</th>\n",
              "      <td>6</td>\n",
              "      <td>Low #vitaminD was an independent predictor of ...</td>\n",
              "      <td>real</td>\n",
              "    </tr>\n",
              "    <tr>\n",
              "      <th>6</th>\n",
              "      <td>7</td>\n",
              "      <td>A common question: why are the cumulative outc...</td>\n",
              "      <td>real</td>\n",
              "    </tr>\n",
              "  </tbody>\n",
              "</table>\n",
              "</div>\n",
              "      <button class=\"colab-df-convert\" onclick=\"convertToInteractive('df-06a857b1-cc01-4945-aa6b-e7e9e08c2e78')\"\n",
              "              title=\"Convert this dataframe to an interactive table.\"\n",
              "              style=\"display:none;\">\n",
              "        \n",
              "  <svg xmlns=\"http://www.w3.org/2000/svg\" height=\"24px\"viewBox=\"0 0 24 24\"\n",
              "       width=\"24px\">\n",
              "    <path d=\"M0 0h24v24H0V0z\" fill=\"none\"/>\n",
              "    <path d=\"M18.56 5.44l.94 2.06.94-2.06 2.06-.94-2.06-.94-.94-2.06-.94 2.06-2.06.94zm-11 1L8.5 8.5l.94-2.06 2.06-.94-2.06-.94L8.5 2.5l-.94 2.06-2.06.94zm10 10l.94 2.06.94-2.06 2.06-.94-2.06-.94-.94-2.06-.94 2.06-2.06.94z\"/><path d=\"M17.41 7.96l-1.37-1.37c-.4-.4-.92-.59-1.43-.59-.52 0-1.04.2-1.43.59L10.3 9.45l-7.72 7.72c-.78.78-.78 2.05 0 2.83L4 21.41c.39.39.9.59 1.41.59.51 0 1.02-.2 1.41-.59l7.78-7.78 2.81-2.81c.8-.78.8-2.07 0-2.86zM5.41 20L4 18.59l7.72-7.72 1.47 1.35L5.41 20z\"/>\n",
              "  </svg>\n",
              "      </button>\n",
              "      \n",
              "  <style>\n",
              "    .colab-df-container {\n",
              "      display:flex;\n",
              "      flex-wrap:wrap;\n",
              "      gap: 12px;\n",
              "    }\n",
              "\n",
              "    .colab-df-convert {\n",
              "      background-color: #E8F0FE;\n",
              "      border: none;\n",
              "      border-radius: 50%;\n",
              "      cursor: pointer;\n",
              "      display: none;\n",
              "      fill: #1967D2;\n",
              "      height: 32px;\n",
              "      padding: 0 0 0 0;\n",
              "      width: 32px;\n",
              "    }\n",
              "\n",
              "    .colab-df-convert:hover {\n",
              "      background-color: #E2EBFA;\n",
              "      box-shadow: 0px 1px 2px rgba(60, 64, 67, 0.3), 0px 1px 3px 1px rgba(60, 64, 67, 0.15);\n",
              "      fill: #174EA6;\n",
              "    }\n",
              "\n",
              "    [theme=dark] .colab-df-convert {\n",
              "      background-color: #3B4455;\n",
              "      fill: #D2E3FC;\n",
              "    }\n",
              "\n",
              "    [theme=dark] .colab-df-convert:hover {\n",
              "      background-color: #434B5C;\n",
              "      box-shadow: 0px 1px 3px 1px rgba(0, 0, 0, 0.15);\n",
              "      filter: drop-shadow(0px 1px 2px rgba(0, 0, 0, 0.3));\n",
              "      fill: #FFFFFF;\n",
              "    }\n",
              "  </style>\n",
              "\n",
              "      <script>\n",
              "        const buttonEl =\n",
              "          document.querySelector('#df-06a857b1-cc01-4945-aa6b-e7e9e08c2e78 button.colab-df-convert');\n",
              "        buttonEl.style.display =\n",
              "          google.colab.kernel.accessAllowed ? 'block' : 'none';\n",
              "\n",
              "        async function convertToInteractive(key) {\n",
              "          const element = document.querySelector('#df-06a857b1-cc01-4945-aa6b-e7e9e08c2e78');\n",
              "          const dataTable =\n",
              "            await google.colab.kernel.invokeFunction('convertToInteractive',\n",
              "                                                     [key], {});\n",
              "          if (!dataTable) return;\n",
              "\n",
              "          const docLinkHtml = 'Like what you see? Visit the ' +\n",
              "            '<a target=\"_blank\" href=https://colab.research.google.com/notebooks/data_table.ipynb>data table notebook</a>'\n",
              "            + ' to learn more about interactive tables.';\n",
              "          element.innerHTML = '';\n",
              "          dataTable['output_type'] = 'display_data';\n",
              "          await google.colab.output.renderOutput(dataTable, element);\n",
              "          const docLink = document.createElement('div');\n",
              "          docLink.innerHTML = docLinkHtml;\n",
              "          element.appendChild(docLink);\n",
              "        }\n",
              "      </script>\n",
              "    </div>\n",
              "  </div>\n",
              "  "
            ]
          },
          "metadata": {},
          "execution_count": 5
        }
      ]
    },
    {
      "cell_type": "markdown",
      "source": [
        "### Statistics"
      ],
      "metadata": {
        "id": "u6iT9Ys3wYeE"
      }
    },
    {
      "cell_type": "code",
      "source": [
        "# Training Data checking\n",
        "shape = df_train.shape\n",
        "print('There are {0} tweets and {1} columns for each tweet.'.format(shape[0], shape[1]))\n",
        "print('Is there any null value? ', df_train.isnull().values.any())\n",
        "print('The distribution of data into classes is:')\n",
        "df_train['label'].value_counts()"
      ],
      "metadata": {
        "colab": {
          "base_uri": "https://localhost:8080/"
        },
        "id": "jvZUa0M4wafG",
        "outputId": "0738ab86-6c7a-48b3-dbc4-b99e549b7c48"
      },
      "execution_count": 6,
      "outputs": [
        {
          "output_type": "stream",
          "name": "stdout",
          "text": [
            "There are 17200 tweets and 3 columns for each tweet.\n",
            "Is there any null value?  False\n",
            "The distribution of data into classes is:\n"
          ]
        },
        {
          "output_type": "execute_result",
          "data": {
            "text/plain": [
              "real    8989\n",
              "fake    8211\n",
              "Name: label, dtype: int64"
            ]
          },
          "metadata": {},
          "execution_count": 6
        }
      ]
    },
    {
      "cell_type": "code",
      "source": [
        "# Validation Data checking\n",
        "shape = df_val.shape\n",
        "print('There are {0} tweets and {1} columns for each tweet.'.format(shape[0], shape[1]))\n",
        "print('Is there any null value? ', df_val.isnull().values.any())\n",
        "print('The distribution of data into classes is:')\n",
        "df_val['label'].value_counts()"
      ],
      "metadata": {
        "colab": {
          "base_uri": "https://localhost:8080/"
        },
        "id": "ztmurow_wdIB",
        "outputId": "1147c64d-99f7-4e91-bfb6-2cfc7017ecea"
      },
      "execution_count": 7,
      "outputs": [
        {
          "output_type": "stream",
          "name": "stdout",
          "text": [
            "There are 8690 tweets and 3 columns for each tweet.\n",
            "Is there any null value?  False\n",
            "The distribution of data into classes is:\n"
          ]
        },
        {
          "output_type": "execute_result",
          "data": {
            "text/plain": [
              "real    4603\n",
              "fake    4087\n",
              "Name: label, dtype: int64"
            ]
          },
          "metadata": {},
          "execution_count": 7
        }
      ]
    },
    {
      "cell_type": "code",
      "source": [
        "# Testing Data checking\n",
        "shape = df_test.shape\n",
        "print('There are {0} tweets and {1} columns for each tweet.'.format(shape[0], shape[1]))\n",
        "print('Is there any null value? ', df_test.isnull().values.any())\n",
        "print('The distribution of data into classes is:')\n",
        "df_test['label'].value_counts()"
      ],
      "metadata": {
        "colab": {
          "base_uri": "https://localhost:8080/"
        },
        "id": "wy5G_XBdweGg",
        "outputId": "65c052f6-63f4-4484-95a4-808396e6c394"
      },
      "execution_count": 8,
      "outputs": [
        {
          "output_type": "stream",
          "name": "stdout",
          "text": [
            "There are 9134 tweets and 3 columns for each tweet.\n",
            "Is there any null value?  False\n",
            "The distribution of data into classes is:\n"
          ]
        },
        {
          "output_type": "execute_result",
          "data": {
            "text/plain": [
              "real    4984\n",
              "fake    4150\n",
              "Name: label, dtype: int64"
            ]
          },
          "metadata": {},
          "execution_count": 8
        }
      ]
    },
    {
      "cell_type": "markdown",
      "source": [
        "### Droping the columns that are not necessary"
      ],
      "metadata": {
        "id": "DPuSAdl-wh8f"
      }
    },
    {
      "cell_type": "code",
      "source": [
        "columns_to_drop = ['id']\n",
        "df_train = df_train.drop(columns_to_drop, axis = 1)\n",
        "df_val = df_val.drop(columns_to_drop, axis = 1)\n",
        "df_test = df_test.drop(columns_to_drop, axis = 1)\n",
        "df_train.head(2)"
      ],
      "metadata": {
        "colab": {
          "base_uri": "https://localhost:8080/",
          "height": 112
        },
        "id": "_oTRm2uJwjDW",
        "outputId": "9ef9604a-cbcf-46a6-f1d6-257bebb56219"
      },
      "execution_count": 9,
      "outputs": [
        {
          "output_type": "execute_result",
          "data": {
            "text/plain": [
              "                                               tweet label\n",
              "0  The CDC currently reports 99031 deaths. In gen...  real\n",
              "1  States reported 1121 deaths a small rise from ...  real"
            ],
            "text/html": [
              "\n",
              "  <div id=\"df-e443b3d1-6f43-4da2-b893-8933fc1d57f8\">\n",
              "    <div class=\"colab-df-container\">\n",
              "      <div>\n",
              "<style scoped>\n",
              "    .dataframe tbody tr th:only-of-type {\n",
              "        vertical-align: middle;\n",
              "    }\n",
              "\n",
              "    .dataframe tbody tr th {\n",
              "        vertical-align: top;\n",
              "    }\n",
              "\n",
              "    .dataframe thead th {\n",
              "        text-align: right;\n",
              "    }\n",
              "</style>\n",
              "<table border=\"1\" class=\"dataframe\">\n",
              "  <thead>\n",
              "    <tr style=\"text-align: right;\">\n",
              "      <th></th>\n",
              "      <th>tweet</th>\n",
              "      <th>label</th>\n",
              "    </tr>\n",
              "  </thead>\n",
              "  <tbody>\n",
              "    <tr>\n",
              "      <th>0</th>\n",
              "      <td>The CDC currently reports 99031 deaths. In gen...</td>\n",
              "      <td>real</td>\n",
              "    </tr>\n",
              "    <tr>\n",
              "      <th>1</th>\n",
              "      <td>States reported 1121 deaths a small rise from ...</td>\n",
              "      <td>real</td>\n",
              "    </tr>\n",
              "  </tbody>\n",
              "</table>\n",
              "</div>\n",
              "      <button class=\"colab-df-convert\" onclick=\"convertToInteractive('df-e443b3d1-6f43-4da2-b893-8933fc1d57f8')\"\n",
              "              title=\"Convert this dataframe to an interactive table.\"\n",
              "              style=\"display:none;\">\n",
              "        \n",
              "  <svg xmlns=\"http://www.w3.org/2000/svg\" height=\"24px\"viewBox=\"0 0 24 24\"\n",
              "       width=\"24px\">\n",
              "    <path d=\"M0 0h24v24H0V0z\" fill=\"none\"/>\n",
              "    <path d=\"M18.56 5.44l.94 2.06.94-2.06 2.06-.94-2.06-.94-.94-2.06-.94 2.06-2.06.94zm-11 1L8.5 8.5l.94-2.06 2.06-.94-2.06-.94L8.5 2.5l-.94 2.06-2.06.94zm10 10l.94 2.06.94-2.06 2.06-.94-2.06-.94-.94-2.06-.94 2.06-2.06.94z\"/><path d=\"M17.41 7.96l-1.37-1.37c-.4-.4-.92-.59-1.43-.59-.52 0-1.04.2-1.43.59L10.3 9.45l-7.72 7.72c-.78.78-.78 2.05 0 2.83L4 21.41c.39.39.9.59 1.41.59.51 0 1.02-.2 1.41-.59l7.78-7.78 2.81-2.81c.8-.78.8-2.07 0-2.86zM5.41 20L4 18.59l7.72-7.72 1.47 1.35L5.41 20z\"/>\n",
              "  </svg>\n",
              "      </button>\n",
              "      \n",
              "  <style>\n",
              "    .colab-df-container {\n",
              "      display:flex;\n",
              "      flex-wrap:wrap;\n",
              "      gap: 12px;\n",
              "    }\n",
              "\n",
              "    .colab-df-convert {\n",
              "      background-color: #E8F0FE;\n",
              "      border: none;\n",
              "      border-radius: 50%;\n",
              "      cursor: pointer;\n",
              "      display: none;\n",
              "      fill: #1967D2;\n",
              "      height: 32px;\n",
              "      padding: 0 0 0 0;\n",
              "      width: 32px;\n",
              "    }\n",
              "\n",
              "    .colab-df-convert:hover {\n",
              "      background-color: #E2EBFA;\n",
              "      box-shadow: 0px 1px 2px rgba(60, 64, 67, 0.3), 0px 1px 3px 1px rgba(60, 64, 67, 0.15);\n",
              "      fill: #174EA6;\n",
              "    }\n",
              "\n",
              "    [theme=dark] .colab-df-convert {\n",
              "      background-color: #3B4455;\n",
              "      fill: #D2E3FC;\n",
              "    }\n",
              "\n",
              "    [theme=dark] .colab-df-convert:hover {\n",
              "      background-color: #434B5C;\n",
              "      box-shadow: 0px 1px 3px 1px rgba(0, 0, 0, 0.15);\n",
              "      filter: drop-shadow(0px 1px 2px rgba(0, 0, 0, 0.3));\n",
              "      fill: #FFFFFF;\n",
              "    }\n",
              "  </style>\n",
              "\n",
              "      <script>\n",
              "        const buttonEl =\n",
              "          document.querySelector('#df-e443b3d1-6f43-4da2-b893-8933fc1d57f8 button.colab-df-convert');\n",
              "        buttonEl.style.display =\n",
              "          google.colab.kernel.accessAllowed ? 'block' : 'none';\n",
              "\n",
              "        async function convertToInteractive(key) {\n",
              "          const element = document.querySelector('#df-e443b3d1-6f43-4da2-b893-8933fc1d57f8');\n",
              "          const dataTable =\n",
              "            await google.colab.kernel.invokeFunction('convertToInteractive',\n",
              "                                                     [key], {});\n",
              "          if (!dataTable) return;\n",
              "\n",
              "          const docLinkHtml = 'Like what you see? Visit the ' +\n",
              "            '<a target=\"_blank\" href=https://colab.research.google.com/notebooks/data_table.ipynb>data table notebook</a>'\n",
              "            + ' to learn more about interactive tables.';\n",
              "          element.innerHTML = '';\n",
              "          dataTable['output_type'] = 'display_data';\n",
              "          await google.colab.output.renderOutput(dataTable, element);\n",
              "          const docLink = document.createElement('div');\n",
              "          docLink.innerHTML = docLinkHtml;\n",
              "          element.appendChild(docLink);\n",
              "        }\n",
              "      </script>\n",
              "    </div>\n",
              "  </div>\n",
              "  "
            ]
          },
          "metadata": {},
          "execution_count": 9
        }
      ]
    },
    {
      "cell_type": "markdown",
      "source": [
        "### Merging test and val data to use in k-fold cross validation"
      ],
      "metadata": {
        "id": "pHvlg3K6wmyW"
      }
    },
    {
      "cell_type": "code",
      "source": [
        "df_train = pd.concat([df_train, df_val], ignore_index=True)"
      ],
      "metadata": {
        "id": "b_C3alrwwoWk"
      },
      "execution_count": 10,
      "outputs": []
    },
    {
      "cell_type": "markdown",
      "source": [
        "### Plotting the class-wise distribution of datasets"
      ],
      "metadata": {
        "id": "SGvOiGFYwqyQ"
      }
    },
    {
      "cell_type": "code",
      "source": [
        "plt.figure(figsize=(4, 4))\n",
        "\n",
        "ax = seaborn.countplot(\n",
        "    x = df_train['label'],  \n",
        "    data = df_train, \n",
        "    order = df_train['label'].value_counts().index \n",
        ")\n",
        "\n",
        "ax.set_title('Distribution of tweets into classes for the train dataset', fontsize = 11)\n",
        "ax.set_xlabel ('Class Label')\n",
        "ax.set_ylabel ('Number of tweets')\n",
        "\n",
        "for p, label in zip(ax.patches, df_train['label'].value_counts()):\n",
        "    ax.annotate(label, (p.get_x() + 0.25, p.get_height() + 0.5), weight = 'bold')"
      ],
      "metadata": {
        "colab": {
          "base_uri": "https://localhost:8080/",
          "height": 293
        },
        "id": "nTK5qpRVwsO1",
        "outputId": "ba1ec62f-004f-460e-b76f-e2732a6d7c42"
      },
      "execution_count": 11,
      "outputs": [
        {
          "output_type": "display_data",
          "data": {
            "text/plain": [
              "<Figure size 288x288 with 1 Axes>"
            ],
            "image/png": "[encoded data removed]"
          },
          "metadata": {
            "needs_background": "light"
          }
        }
      ]
    },
    {
      "cell_type": "code",
      "source": [
        "plt.figure(figsize=(4,4))\n",
        "\n",
        "ax = seaborn.countplot(\n",
        "    x = df_test['label'], \n",
        "    data = df_test, \n",
        "    order = df_test['label'].value_counts().index \n",
        "    )\n",
        "\n",
        "ax.set_title('Distribution of tweets into classes for the test dataset', fontsize=11)\n",
        "ax.set_xlabel ('Class Label')\n",
        "ax.set_ylabel ('Number of tweets')\n",
        "\n",
        "for p, label in zip(ax.patches, df_test['label'].value_counts()):\n",
        "    ax.annotate(label, (p.get_x() + 0.25, p.get_height() + 0.5), weight = 'bold')"
      ],
      "metadata": {
        "colab": {
          "base_uri": "https://localhost:8080/",
          "height": 293
        },
        "id": "gHBNB40mwuqg",
        "outputId": "e90353a3-1450-4673-b1b6-db0b116511a2"
      },
      "execution_count": 12,
      "outputs": [
        {
          "output_type": "display_data",
          "data": {
            "text/plain": [
              "<Figure size 288x288 with 1 Axes>"
            ],
            "image/png": "[encoded data removed]"
          },
          "metadata": {
            "needs_background": "light"
          }
        }
      ]
    },
    {
      "cell_type": "code",
      "source": [
        "plt.figure(figsize=(4,4))\n",
        "\n",
        "ax = seaborn.countplot(\n",
        "    x = df_val['label'], \n",
        "    data = df_val, \n",
        "    order = df_val['label'].value_counts().index \n",
        "    )\n",
        "\n",
        "ax.set_title('Distribution of tweets into classes for the validation dataset', fontsize=11)\n",
        "ax.set_xlabel ('Class Label')\n",
        "ax.set_ylabel ('Number of tweets')\n",
        "\n",
        "for p, label in zip(ax.patches, df_val['label'].value_counts()):\n",
        "    ax.annotate(label, (p.get_x() + 0.25, p.get_height() + 0.5), weight = 'bold')"
      ],
      "metadata": {
        "colab": {
          "base_uri": "https://localhost:8080/",
          "height": 293
        },
        "id": "6dDIUuDHFxrF",
        "outputId": "82547b9f-6869-46a2-9196-bed6be5f9e90"
      },
      "execution_count": 13,
      "outputs": [
        {
          "output_type": "display_data",
          "data": {
            "text/plain": [
              "<Figure size 288x288 with 1 Axes>"
            ],
            "image/png": "[encoded data removed]"
          },
          "metadata": {
            "needs_background": "light"
          }
        }
      ]
    },
    {
      "cell_type": "markdown",
      "source": [
        "## 2. Pre-processing"
      ],
      "metadata": {
        "id": "u_clUI3xww99"
      }
    },
    {
      "cell_type": "markdown",
      "source": [
        "### Required imports"
      ],
      "metadata": {
        "id": "NH_GULccwyK9"
      }
    },
    {
      "cell_type": "code",
      "source": [
        "import nltk\n",
        "nltk.download('stopwords')\n",
        "nltk.download('wordnet')\n",
        "from nltk.corpus import stopwords\n",
        "from nltk.stem import WordNetLemmatizer\n",
        "! pip install contractions\n",
        "import contractions\n",
        "import string\n",
        "import re\n",
        "from collections import Counter\n",
        "from numpy import array"
      ],
      "metadata": {
        "colab": {
          "base_uri": "https://localhost:8080/"
        },
        "id": "wTkG0jWJw1Qt",
        "outputId": "06873745-bd04-4661-f898-af5ab870542e"
      },
      "execution_count": 14,
      "outputs": [
        {
          "output_type": "stream",
          "name": "stderr",
          "text": [
            "[nltk_data] Downloading package stopwords to /root/nltk_data...\n",
            "[nltk_data]   Unzipping corpora/stopwords.zip.\n",
            "[nltk_data] Downloading package wordnet to /root/nltk_data...\n",
            "[nltk_data]   Unzipping corpora/wordnet.zip.\n"
          ]
        },
        {
          "output_type": "stream",
          "name": "stdout",
          "text": [
            "Looking in indexes: https://pypi.org/simple, https://us-python.pkg.dev/colab-wheels/public/simple/\n",
            "Collecting contractions\n",
            "  Downloading contractions-0.1.72-py2.py3-none-any.whl (8.3 kB)\n",
            "Collecting textsearch>=0.0.21\n",
            "  Downloading textsearch-0.0.21-py2.py3-none-any.whl (7.5 kB)\n",
            "Collecting anyascii\n",
            "  Downloading anyascii-0.3.1-py3-none-any.whl (287 kB)\n",
            "\u001b[K     |████████████████████████████████| 287 kB 4.2 MB/s \n",
            "\u001b[?25hCollecting pyahocorasick\n",
            "  Downloading pyahocorasick-1.4.4-cp37-cp37m-manylinux_2_17_x86_64.manylinux2014_x86_64.whl (106 kB)\n",
            "\u001b[K     |████████████████████████████████| 106 kB 49.3 MB/s \n",
            "\u001b[?25hInstalling collected packages: pyahocorasick, anyascii, textsearch, contractions\n",
            "Successfully installed anyascii-0.3.1 contractions-0.1.72 pyahocorasick-1.4.4 textsearch-0.0.21\n"
          ]
        }
      ]
    },
    {
      "cell_type": "markdown",
      "source": [
        "### Pre-processing Function"
      ],
      "metadata": {
        "id": "gxevdsrSw5Uv"
      }
    },
    {
      "cell_type": "code",
      "source": [
        "def clean_tweet(tweet):\n",
        "    # lowercasing the text\n",
        "    tweet = tweet.lower()\n",
        "    \n",
        "    # URL normalization\n",
        "    url_pattern = '(\\w+:\\/\\/\\S+)'\n",
        "    tweet = re.sub(url_pattern, 'url', tweet)\n",
        "    \n",
        "    # Mentions normalization\n",
        "    mention_pattern = '(\\^@[._A-Za-z0-9]+)'\n",
        "    tweet = re.sub(mention_pattern, '@user', tweet)\n",
        "    \n",
        "    # Contractions expansion\n",
        "    tweet = contractions.fix(tweet)\n",
        "    \n",
        "    # split into tokens by white space\n",
        "    words = tweet.split()\n",
        "    \n",
        "    # prepare regex for char filtering\n",
        "    re_punc = re.compile('[%s]' % re.escape(string.punctuation))\n",
        "    \n",
        "    # remove punctuation from each word\n",
        "    words = [re_punc.sub('', w) for w in words]\n",
        "    \n",
        "    # remove remaining tokens that are not alphabetic\n",
        "    words = [word for word in words if word.isalpha() or word == 'covid19']\n",
        "    \n",
        "    # filter out stop words\n",
        "    stop_words = set(stopwords.words('english'))\n",
        "    words = [w for w in words if not w in stop_words]\n",
        "    \n",
        "    # Lemmatization\n",
        "    lemmatizer = WordNetLemmatizer()\n",
        "    words = [lemmatizer.lemmatize(word) for word in words]\n",
        "    \n",
        "    # filter out short tokens\n",
        "    words = [word for word in words if len(word) > 2]\n",
        "        \n",
        "    return \" \".join(words)"
      ],
      "metadata": {
        "id": "tXbyU3wTw6ue"
      },
      "execution_count": 15,
      "outputs": []
    },
    {
      "cell_type": "code",
      "source": [
        "nltk.download('omw-1.4')\n",
        "print(clean_tweet('WHO announces Algeria outside of danger regarding COVID-19'))"
      ],
      "metadata": {
        "colab": {
          "base_uri": "https://localhost:8080/"
        },
        "id": "3elRqT_uw8pU",
        "outputId": "26dcf5a1-3f74-4d93-c83c-b69597032350"
      },
      "execution_count": 16,
      "outputs": [
        {
          "output_type": "stream",
          "name": "stderr",
          "text": [
            "[nltk_data] Downloading package omw-1.4 to /root/nltk_data...\n",
            "[nltk_data]   Unzipping corpora/omw-1.4.zip.\n"
          ]
        },
        {
          "output_type": "stream",
          "name": "stdout",
          "text": [
            "announces algeria outside danger regarding covid19\n"
          ]
        }
      ]
    },
    {
      "cell_type": "code",
      "source": [
        "# Testing the function\n",
        "sampleTweet = df_train['tweet'][4]\n",
        "tokens = clean_tweet(sampleTweet)\n",
        "print('Original tweet: ', sampleTweet,'\\n')\n",
        "print('Pre-processed :', tokens, '\\n')"
      ],
      "metadata": {
        "colab": {
          "base_uri": "https://localhost:8080/"
        },
        "id": "uvtt-PRzxAkE",
        "outputId": "e9dac8d5-0037-400f-966e-d55871d8b982"
      },
      "execution_count": 17,
      "outputs": [
        {
          "output_type": "stream",
          "name": "stdout",
          "text": [
            "Original tweet:  Populous states can generate large case counts but if you look at the new cases per million today 9 smaller states are showing more cases per million than California or Texas: AL AR ID KS KY LA MS NV and SC. https://t.co/1pYW6cWRaS \n",
            "\n",
            "Pre-processed : populous state generate large case count look new case per million today smaller state showing case per million california texas url \n",
            "\n"
          ]
        }
      ]
    },
    {
      "cell_type": "markdown",
      "source": [
        "### Applying pre-processing to training and test data"
      ],
      "metadata": {
        "id": "bhzPL4JgxCnt"
      }
    },
    {
      "cell_type": "code",
      "source": [
        "# Preprocess trainingData\n",
        "df_train['tweet'] = df_train['tweet'].map(lambda x: clean_tweet(x))\n",
        "\n",
        "# Preprocess validationData\n",
        "df_test['tweet'] = df_test['tweet'].map(lambda x: clean_tweet(x))"
      ],
      "metadata": {
        "id": "DECnAZQsxEYX"
      },
      "execution_count": 18,
      "outputs": []
    },
    {
      "cell_type": "markdown",
      "source": [
        "## 3. Feature Extraction"
      ],
      "metadata": {
        "id": "uPKS1Kq0xGgf"
      }
    },
    {
      "cell_type": "markdown",
      "source": [
        "##### 1. BOW Model"
      ],
      "metadata": {
        "id": "vwIwwab9xIQf"
      }
    },
    {
      "cell_type": "code",
      "source": [
        "from sklearn.feature_extraction.text import CountVectorizer\n",
        "\n",
        "vectorizer = CountVectorizer()\n",
        "X_train_counts = vectorizer.fit_transform(df_train['tweet'])\n",
        "\n",
        "print(\"There are {} tweets, each of them represented as a {} dim feature vector\"\\\n",
        "      .format(X_train_counts.shape[0], X_train_counts.shape[1]))"
      ],
      "metadata": {
        "colab": {
          "base_uri": "https://localhost:8080/"
        },
        "id": "50IZg9uSxJIV",
        "outputId": "29e1645c-7e94-40a5-9987-87e36dca4b87"
      },
      "execution_count": 19,
      "outputs": [
        {
          "output_type": "stream",
          "name": "stdout",
          "text": [
            "There are 25890 tweets, each of them represented as a 36266 dim feature vector\n"
          ]
        }
      ]
    },
    {
      "cell_type": "code",
      "source": [
        "print(X_train_counts.toarray()) #Feature values\n",
        "# When printed it will seem as if all the values are 0, since it is a very sparse array\n",
        "# Each row is of size 36266, and only few of those words are encountered in a tweet"
      ],
      "metadata": {
        "colab": {
          "base_uri": "https://localhost:8080/"
        },
        "id": "jL4YAaGOxKid",
        "outputId": "7571431a-9ac2-4e03-9b9c-7b7f55980924"
      },
      "execution_count": 20,
      "outputs": [
        {
          "output_type": "stream",
          "name": "stdout",
          "text": [
            "[[0 0 0 ... 0 0 0]\n",
            " [0 0 0 ... 0 0 0]\n",
            " [0 0 0 ... 0 0 0]\n",
            " ...\n",
            " [0 0 0 ... 0 0 0]\n",
            " [0 0 0 ... 0 0 0]\n",
            " [0 0 0 ... 0 0 0]]\n"
          ]
        }
      ]
    },
    {
      "cell_type": "code",
      "source": [
        "counts = X_train_counts.toarray()[10]\n",
        "features = vectorizer.get_feature_names()\n",
        "\n",
        "print('Preprocessed tweet:', df_train['tweet'][10], '\\n')\n",
        "print('Occurrencies: ')\n",
        "for i in range(len(features)):\n",
        "    count = counts[i]\n",
        "    if(count > 0):\n",
        "        print('{}: {}'.format(features[i], count))"
      ],
      "metadata": {
        "colab": {
          "base_uri": "https://localhost:8080/"
        },
        "id": "dtCbUoQ2xL2N",
        "outputId": "a2d1ea87-2cb0-4f19-9859-28b4c6e0b048"
      },
      "execution_count": 21,
      "outputs": [
        {
          "output_type": "stream",
          "name": "stdout",
          "text": [
            "Preprocessed tweet: take simple daily precaution help prevent spread respiratory illness like covid19 learn protect coronavirus covid19 url url \n",
            "\n",
            "Occurrencies: \n",
            "coronavirus: 1\n",
            "covid19: 2\n",
            "daily: 1\n",
            "help: 1\n",
            "illness: 1\n",
            "learn: 1\n",
            "like: 1\n",
            "precaution: 1\n",
            "prevent: 1\n",
            "protect: 1\n",
            "respiratory: 1\n",
            "simple: 1\n",
            "spread: 1\n",
            "take: 1\n",
            "url: 2\n"
          ]
        },
        {
          "output_type": "stream",
          "name": "stderr",
          "text": [
            "/usr/local/lib/python3.7/dist-packages/sklearn/utils/deprecation.py:87: FutureWarning: Function get_feature_names is deprecated; get_feature_names is deprecated in 1.0 and will be removed in 1.2. Please use get_feature_names_out instead.\n",
            "  warnings.warn(msg, category=FutureWarning)\n"
          ]
        }
      ]
    },
    {
      "cell_type": "markdown",
      "source": [
        "##### 2. TF-IDF Representation"
      ],
      "metadata": {
        "id": "QyRhZ9QDxNuN"
      }
    },
    {
      "cell_type": "code",
      "source": [
        "from sklearn.feature_extraction.text import TfidfTransformer\n",
        "\n",
        "tf_transformer = TfidfTransformer(use_idf = False).fit(X_train_counts)\n",
        "X_train_tf = tf_transformer.transform(X_train_counts)\n",
        "X_train_tf.shape\n",
        "print('There are {} tweets and {} is the size of the vocabulary for all the tweets'\\\n",
        "      .format(X_train_tf.shape[0], X_train_tf.shape[1]))"
      ],
      "metadata": {
        "colab": {
          "base_uri": "https://localhost:8080/"
        },
        "id": "qLWowUs_xOud",
        "outputId": "71e01a1e-31ea-4768-9c41-a19f64c01639"
      },
      "execution_count": 22,
      "outputs": [
        {
          "output_type": "stream",
          "name": "stdout",
          "text": [
            "There are 25890 tweets and 36266 is the size of the vocabulary for all the tweets\n"
          ]
        }
      ]
    },
    {
      "cell_type": "markdown",
      "source": [
        "## 4. Naive Bayes"
      ],
      "metadata": {
        "id": "rJjEQsW5xRPk"
      }
    },
    {
      "cell_type": "markdown",
      "source": [
        "#### Model Training"
      ],
      "metadata": {
        "id": "zB6LAVWqxSxY"
      }
    },
    {
      "cell_type": "code",
      "source": [
        "from sklearn.pipeline import Pipeline\n",
        "from sklearn.naive_bayes import MultinomialNB\n",
        "from sklearn.model_selection import cross_validate\n",
        "from sklearn.metrics import make_scorer, recall_score\n",
        "\n",
        "pipeline = Pipeline([\n",
        "        ('bow', CountVectorizer()),  \n",
        "        ('tfidf', TfidfTransformer()),  \n",
        "        ('clf', MultinomialNB())\n",
        "    ])\n",
        "\n",
        "scoring = {'prec_macro': 'precision_macro', 'rec_macro': make_scorer(recall_score, average='macro'), 'f1_macro': 'f1_macro', 'accuracy': 'accuracy'}\n",
        "scores = cross_validate(pipeline, df_train['tweet'], df_train['label'], cv = 5, scoring = scoring, return_train_score = True)"
      ],
      "metadata": {
        "id": "L-Zply7IxT54"
      },
      "execution_count": 23,
      "outputs": []
    },
    {
      "cell_type": "code",
      "source": [
        "print('Mean Accuracy:', scores['test_accuracy'].mean())\n",
        "scores['test_accuracy']"
      ],
      "metadata": {
        "colab": {
          "base_uri": "https://localhost:8080/"
        },
        "id": "jpCc4QYMxVMk",
        "outputId": "2cf39313-5af2-44f0-a11f-26eafc398fc1"
      },
      "execution_count": 24,
      "outputs": [
        {
          "output_type": "stream",
          "name": "stdout",
          "text": [
            "Mean Accuracy: 0.771881035148706\n"
          ]
        },
        {
          "output_type": "execute_result",
          "data": {
            "text/plain": [
              "array([0.83043646, 0.76689842, 0.7199691 , 0.80397837, 0.73812283])"
            ]
          },
          "metadata": {},
          "execution_count": 24
        }
      ]
    },
    {
      "cell_type": "code",
      "source": [
        "print('Mean F1:', scores['test_f1_macro'].mean())\n",
        "scores['test_f1_macro']"
      ],
      "metadata": {
        "colab": {
          "base_uri": "https://localhost:8080/"
        },
        "id": "un_0w7JpxX2X",
        "outputId": "bdeb3010-a916-480a-9032-6e0d87aa03a2"
      },
      "execution_count": 25,
      "outputs": [
        {
          "output_type": "stream",
          "name": "stdout",
          "text": [
            "Mean F1: 0.7686077566677338\n"
          ]
        },
        {
          "output_type": "execute_result",
          "data": {
            "text/plain": [
              "array([0.82585347, 0.76422867, 0.71677363, 0.80079074, 0.73539228])"
            ]
          },
          "metadata": {},
          "execution_count": 25
        }
      ]
    },
    {
      "cell_type": "code",
      "source": [
        "print('Mean Precision:', scores['test_prec_macro'].mean())\n",
        "scores['test_prec_macro']"
      ],
      "metadata": {
        "colab": {
          "base_uri": "https://localhost:8080/"
        },
        "id": "0KYLUCTsxZKn",
        "outputId": "5a722f2f-e7c0-4958-ffd5-05c5760515ae"
      },
      "execution_count": 26,
      "outputs": [
        {
          "output_type": "stream",
          "name": "stdout",
          "text": [
            "Mean Precision: 0.7786661416380373\n"
          ]
        },
        {
          "output_type": "execute_result",
          "data": {
            "text/plain": [
              "array([0.84986322, 0.76995409, 0.7217824 , 0.81178643, 0.73994456])"
            ]
          },
          "metadata": {},
          "execution_count": 26
        }
      ]
    },
    {
      "cell_type": "code",
      "source": [
        "print('Mean Recall:', scores['test_rec_macro'].mean())\n",
        "scores['test_rec_macro']"
      ],
      "metadata": {
        "colab": {
          "base_uri": "https://localhost:8080/"
        },
        "id": "8kOhEkxpxaC9",
        "outputId": "2136b3ec-a620-471d-f153-acd14a09c6f0"
      },
      "execution_count": 27,
      "outputs": [
        {
          "output_type": "stream",
          "name": "stdout",
          "text": [
            "Mean Recall: 0.7677702624777062\n"
          ]
        },
        {
          "output_type": "execute_result",
          "data": {
            "text/plain": [
              "array([0.82436923, 0.76348018, 0.71645534, 0.7996608 , 0.73488577])"
            ]
          },
          "metadata": {},
          "execution_count": 27
        }
      ]
    },
    {
      "cell_type": "code",
      "source": [
        "fit = pipeline.fit(df_train['tweet'], df_train['label'])"
      ],
      "metadata": {
        "id": "f9NO1WrcxbY-"
      },
      "execution_count": 28,
      "outputs": []
    },
    {
      "cell_type": "markdown",
      "source": [
        "#### Prediction on test data"
      ],
      "metadata": {
        "id": "393hSa5HxcwY"
      }
    },
    {
      "cell_type": "code",
      "source": [
        "predictions = pipeline.predict(df_test['tweet'])"
      ],
      "metadata": {
        "id": "h-zW2osVxd4-"
      },
      "execution_count": 29,
      "outputs": []
    },
    {
      "cell_type": "markdown",
      "source": [
        "#### Confusion Matrix"
      ],
      "metadata": {
        "id": "70B49D56xfZn"
      }
    },
    {
      "cell_type": "code",
      "source": [
        "# Plot confusion matrix\n",
        "import pandas as pd\n",
        "import seaborn as sbn\n",
        "import matplotlib.pyplot as plt\n",
        "\n",
        "data = {'true_labels': df_test['label'], 'predicted_labels': predictions}\n",
        "\n",
        "df = pd.DataFrame(data, columns = ['true_labels', 'predicted_labels'])\n",
        "\n",
        "confusion_matrix = pd.crosstab(\n",
        "    df['true_labels'], \n",
        "    df['predicted_labels'], \n",
        "    rownames = ['True Label'], \n",
        "    colnames = ['Predicted Label']\n",
        "    )\n",
        "\n",
        "fig, ax = plt.subplots(figsize=(7,5))\n",
        "sbn.heatmap(confusion_matrix, annot = True, linewidths = 1, fmt = 'd', cmap=\"Greens\")\n",
        "plt.title(\"Confusion matrix of Naive Bayes on Test Data\")\n",
        "plt.show()"
      ],
      "metadata": {
        "colab": {
          "base_uri": "https://localhost:8080/",
          "height": 350
        },
        "id": "2Q39kKgmxhSO",
        "outputId": "47f09941-c418-4f44-d9f4-b8fca83c63e6"
      },
      "execution_count": 30,
      "outputs": [
        {
          "output_type": "display_data",
          "data": {
            "text/plain": [
              "<Figure size 504x360 with 2 Axes>"
            ],
            "image/png": "[encoded data removed]"
          },
          "metadata": {
            "needs_background": "light"
          }
        }
      ]
    },
    {
      "cell_type": "markdown",
      "source": [
        "#### Classification Reports"
      ],
      "metadata": {
        "id": "fWGXLZJExjZr"
      }
    },
    {
      "cell_type": "code",
      "source": [
        "from sklearn.metrics import classification_report,confusion_matrix\n",
        "\n",
        "print('_________________Naive Bayes Classifier______________\\n')\n",
        "print(classification_report(df_test['label'], predictions, digits = 4))"
      ],
      "metadata": {
        "colab": {
          "base_uri": "https://localhost:8080/"
        },
        "id": "80PxAZeqxkvM",
        "outputId": "f4279597-ad47-46a2-abf6-bbab827b7d5b"
      },
      "execution_count": 31,
      "outputs": [
        {
          "output_type": "stream",
          "name": "stdout",
          "text": [
            "_________________Naive Bayes Classifier______________\n",
            "\n",
            "              precision    recall  f1-score   support\n",
            "\n",
            "        fake     0.8073    0.6964    0.7477      4150\n",
            "        real     0.7731    0.8616    0.8150      4984\n",
            "\n",
            "    accuracy                         0.7865      9134\n",
            "   macro avg     0.7902    0.7790    0.7813      9134\n",
            "weighted avg     0.7886    0.7865    0.7844      9134\n",
            "\n"
          ]
        }
      ]
    },
    {
      "cell_type": "code",
      "source": [
        "from sklearn.metrics import accuracy_score, f1_score, precision_score, recall_score\n",
        "\n",
        "# Results\n",
        "print('Accurracy: ', accuracy_score(df_test['label'], predictions))\n",
        "print('F1-Score: ', f1_score(df_test['label'], predictions, average='weighted'))\n",
        "print('Precision Score: ', precision_score(df_test['label'], predictions, average='weighted'))\n",
        "print('Recall Score: ', recall_score(df_test['label'], predictions, average='weighted'))"
      ],
      "metadata": {
        "colab": {
          "base_uri": "https://localhost:8080/"
        },
        "id": "sEs1xUoHxmNM",
        "outputId": "54293617-ce47-44ed-ea2c-38a217d88fd9"
      },
      "execution_count": 32,
      "outputs": [
        {
          "output_type": "stream",
          "name": "stdout",
          "text": [
            "Accurracy:  0.7865119334355156\n",
            "F1-Score:  0.7844145497795664\n",
            "Precision Score:  0.7886415450210801\n",
            "Recall Score:  0.7865119334355156\n"
          ]
        }
      ]
    },
    {
      "cell_type": "markdown",
      "source": [
        ""
      ],
      "metadata": {
        "id": "kN2Bej_6viRJ"
      }
    }
  ]
}